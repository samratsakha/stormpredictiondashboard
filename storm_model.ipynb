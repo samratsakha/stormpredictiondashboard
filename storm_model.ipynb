{
 "cells": [
  {
   "cell_type": "code",
   "execution_count": 1,
   "metadata": {
    "id": "AR2IcV6aNBnJ"
   },
   "outputs": [],
   "source": [
    "import pandas as pd"
   ]
  },
  {
   "cell_type": "code",
   "execution_count": 2,
   "metadata": {
    "colab": {
     "base_uri": "https://localhost:8080/",
     "height": 198
    },
    "id": "1cotz115NtP9",
    "outputId": "7f95970e-c47b-459f-fdd1-1d27764123de"
   },
   "outputs": [
    {
     "data": {
      "text/html": [
       "<div>\n",
       "<style scoped>\n",
       "    .dataframe tbody tr th:only-of-type {\n",
       "        vertical-align: middle;\n",
       "    }\n",
       "\n",
       "    .dataframe tbody tr th {\n",
       "        vertical-align: top;\n",
       "    }\n",
       "\n",
       "    .dataframe thead th {\n",
       "        text-align: right;\n",
       "    }\n",
       "</style>\n",
       "<table border=\"1\" class=\"dataframe\">\n",
       "  <thead>\n",
       "    <tr style=\"text-align: right;\">\n",
       "      <th></th>\n",
       "      <th>CYCLONE</th>\n",
       "      <th>SEASON</th>\n",
       "      <th>LOCATION</th>\n",
       "      <th>STAGES</th>\n",
       "      <th>SEA_TEMPERATURE</th>\n",
       "      <th>RIDGES</th>\n",
       "      <th>WIND_SHEAR_KNOTS</th>\n",
       "      <th>MJO</th>\n",
       "      <th>DIRECTION</th>\n",
       "    </tr>\n",
       "  </thead>\n",
       "  <tbody>\n",
       "    <tr>\n",
       "      <th>0</th>\n",
       "      <td>NIVAR</td>\n",
       "      <td>0</td>\n",
       "      <td>BAY OF BENGAL</td>\n",
       "      <td>1</td>\n",
       "      <td>27</td>\n",
       "      <td>0</td>\n",
       "      <td>40</td>\n",
       "      <td>0</td>\n",
       "      <td>0</td>\n",
       "    </tr>\n",
       "    <tr>\n",
       "      <th>1</th>\n",
       "      <td>NIVAR</td>\n",
       "      <td>0</td>\n",
       "      <td>BAY OF BENGAL</td>\n",
       "      <td>1</td>\n",
       "      <td>28</td>\n",
       "      <td>0</td>\n",
       "      <td>35</td>\n",
       "      <td>0</td>\n",
       "      <td>0</td>\n",
       "    </tr>\n",
       "    <tr>\n",
       "      <th>2</th>\n",
       "      <td>NIVAR</td>\n",
       "      <td>0</td>\n",
       "      <td>BAY OF BENGAL</td>\n",
       "      <td>1</td>\n",
       "      <td>28</td>\n",
       "      <td>0</td>\n",
       "      <td>30</td>\n",
       "      <td>0</td>\n",
       "      <td>0</td>\n",
       "    </tr>\n",
       "    <tr>\n",
       "      <th>3</th>\n",
       "      <td>NIVAR</td>\n",
       "      <td>0</td>\n",
       "      <td>BAY OF BENGAL</td>\n",
       "      <td>0</td>\n",
       "      <td>28</td>\n",
       "      <td>0</td>\n",
       "      <td>30</td>\n",
       "      <td>0</td>\n",
       "      <td>0</td>\n",
       "    </tr>\n",
       "    <tr>\n",
       "      <th>4</th>\n",
       "      <td>NIVAR</td>\n",
       "      <td>0</td>\n",
       "      <td>BAY OF BENGAL</td>\n",
       "      <td>0</td>\n",
       "      <td>28</td>\n",
       "      <td>0</td>\n",
       "      <td>29</td>\n",
       "      <td>0</td>\n",
       "      <td>0</td>\n",
       "    </tr>\n",
       "  </tbody>\n",
       "</table>\n",
       "</div>"
      ],
      "text/plain": [
       "  CYCLONE  SEASON       LOCATION  STAGES  SEA_TEMPERATURE  RIDGES  \\\n",
       "0   NIVAR       0  BAY OF BENGAL       1               27       0   \n",
       "1   NIVAR       0  BAY OF BENGAL       1               28       0   \n",
       "2   NIVAR       0  BAY OF BENGAL       1               28       0   \n",
       "3   NIVAR       0  BAY OF BENGAL       0               28       0   \n",
       "4   NIVAR       0  BAY OF BENGAL       0               28       0   \n",
       "\n",
       "   WIND_SHEAR_KNOTS  MJO  DIRECTION  \n",
       "0                40    0          0  \n",
       "1                35    0          0  \n",
       "2                30    0          0  \n",
       "3                30    0          0  \n",
       "4                29    0          0  "
      ]
     },
     "execution_count": 2,
     "metadata": {},
     "output_type": "execute_result"
    }
   ],
   "source": [
    "df = pd.read_csv(\"data.csv\")\n",
    "df.head()"
   ]
  },
  {
   "cell_type": "code",
   "execution_count": 3,
   "metadata": {
    "colab": {
     "base_uri": "https://localhost:8080/",
     "height": 198
    },
    "id": "JPjhEYIbOQX-",
    "outputId": "d527ad53-7bfd-4952-b55d-d645d5036e55"
   },
   "outputs": [
    {
     "data": {
      "text/html": [
       "<div>\n",
       "<style scoped>\n",
       "    .dataframe tbody tr th:only-of-type {\n",
       "        vertical-align: middle;\n",
       "    }\n",
       "\n",
       "    .dataframe tbody tr th {\n",
       "        vertical-align: top;\n",
       "    }\n",
       "\n",
       "    .dataframe thead th {\n",
       "        text-align: right;\n",
       "    }\n",
       "</style>\n",
       "<table border=\"1\" class=\"dataframe\">\n",
       "  <thead>\n",
       "    <tr style=\"text-align: right;\">\n",
       "      <th></th>\n",
       "      <th>CYCLONE</th>\n",
       "      <th>SEASON</th>\n",
       "      <th>LOCATION</th>\n",
       "      <th>STAGES</th>\n",
       "      <th>SEA_TEMPERATURE</th>\n",
       "      <th>RIDGES</th>\n",
       "      <th>WIND_SHEAR_KNOTS</th>\n",
       "      <th>MJO</th>\n",
       "      <th>DIRECTION</th>\n",
       "    </tr>\n",
       "  </thead>\n",
       "  <tbody>\n",
       "    <tr>\n",
       "      <th>191</th>\n",
       "      <td>AMPHAN</td>\n",
       "      <td>1</td>\n",
       "      <td>BAY OF BENGAL</td>\n",
       "      <td>5</td>\n",
       "      <td>30</td>\n",
       "      <td>1</td>\n",
       "      <td>6</td>\n",
       "      <td>1</td>\n",
       "      <td>4</td>\n",
       "    </tr>\n",
       "    <tr>\n",
       "      <th>192</th>\n",
       "      <td>AMPHAN</td>\n",
       "      <td>1</td>\n",
       "      <td>BAY OF BENGAL</td>\n",
       "      <td>5</td>\n",
       "      <td>29</td>\n",
       "      <td>1</td>\n",
       "      <td>7</td>\n",
       "      <td>1</td>\n",
       "      <td>4</td>\n",
       "    </tr>\n",
       "    <tr>\n",
       "      <th>193</th>\n",
       "      <td>AMPHAN</td>\n",
       "      <td>1</td>\n",
       "      <td>BAY OF BENGAL</td>\n",
       "      <td>4</td>\n",
       "      <td>31</td>\n",
       "      <td>1</td>\n",
       "      <td>5</td>\n",
       "      <td>1</td>\n",
       "      <td>4</td>\n",
       "    </tr>\n",
       "    <tr>\n",
       "      <th>194</th>\n",
       "      <td>AMPHAN</td>\n",
       "      <td>1</td>\n",
       "      <td>BAY OF BENGAL</td>\n",
       "      <td>4</td>\n",
       "      <td>31</td>\n",
       "      <td>1</td>\n",
       "      <td>6</td>\n",
       "      <td>1</td>\n",
       "      <td>4</td>\n",
       "    </tr>\n",
       "    <tr>\n",
       "      <th>195</th>\n",
       "      <td>AMPHAN</td>\n",
       "      <td>1</td>\n",
       "      <td>BAY OF BENGAL</td>\n",
       "      <td>4</td>\n",
       "      <td>31</td>\n",
       "      <td>1</td>\n",
       "      <td>6</td>\n",
       "      <td>1</td>\n",
       "      <td>4</td>\n",
       "    </tr>\n",
       "  </tbody>\n",
       "</table>\n",
       "</div>"
      ],
      "text/plain": [
       "    CYCLONE  SEASON       LOCATION  STAGES  SEA_TEMPERATURE  RIDGES  \\\n",
       "191  AMPHAN       1  BAY OF BENGAL       5               30       1   \n",
       "192  AMPHAN       1  BAY OF BENGAL       5               29       1   \n",
       "193  AMPHAN       1  BAY OF BENGAL       4               31       1   \n",
       "194  AMPHAN       1  BAY OF BENGAL       4               31       1   \n",
       "195  AMPHAN       1  BAY OF BENGAL       4               31       1   \n",
       "\n",
       "     WIND_SHEAR_KNOTS  MJO  DIRECTION  \n",
       "191                 6    1          4  \n",
       "192                 7    1          4  \n",
       "193                 5    1          4  \n",
       "194                 6    1          4  \n",
       "195                 6    1          4  "
      ]
     },
     "execution_count": 3,
     "metadata": {},
     "output_type": "execute_result"
    }
   ],
   "source": [
    "df.tail()"
   ]
  },
  {
   "cell_type": "code",
   "execution_count": 4,
   "metadata": {
    "colab": {
     "base_uri": "https://localhost:8080/"
    },
    "id": "sU5bc-keOauq",
    "outputId": "50220ab5-9e86-4445-c5e5-ebaea6e56ee9"
   },
   "outputs": [
    {
     "name": "stdout",
     "output_type": "stream",
     "text": [
      "<class 'pandas.core.frame.DataFrame'>\n",
      "RangeIndex: 196 entries, 0 to 195\n",
      "Data columns (total 9 columns):\n",
      " #   Column            Non-Null Count  Dtype \n",
      "---  ------            --------------  ----- \n",
      " 0   CYCLONE           196 non-null    object\n",
      " 1   SEASON            196 non-null    int64 \n",
      " 2   LOCATION          196 non-null    object\n",
      " 3   STAGES            196 non-null    int64 \n",
      " 4   SEA_TEMPERATURE   196 non-null    int64 \n",
      " 5   RIDGES            196 non-null    int64 \n",
      " 6   WIND_SHEAR_KNOTS  196 non-null    int64 \n",
      " 7   MJO               196 non-null    int64 \n",
      " 8   DIRECTION         196 non-null    int64 \n",
      "dtypes: int64(7), object(2)\n",
      "memory usage: 13.9+ KB\n"
     ]
    }
   ],
   "source": [
    "df.info()"
   ]
  },
  {
   "cell_type": "code",
   "execution_count": 5,
   "metadata": {
    "colab": {
     "base_uri": "https://localhost:8080/"
    },
    "id": "0CNLj18mc5xE",
    "outputId": "47d43ee2-6c36-485e-a38e-b784749233e0"
   },
   "outputs": [
    {
     "data": {
      "text/plain": [
       "CYCLONE             0\n",
       "SEASON              0\n",
       "LOCATION            0\n",
       "STAGES              0\n",
       "SEA_TEMPERATURE     0\n",
       "RIDGES              0\n",
       "WIND_SHEAR_KNOTS    0\n",
       "MJO                 0\n",
       "DIRECTION           0\n",
       "dtype: int64"
      ]
     },
     "execution_count": 5,
     "metadata": {},
     "output_type": "execute_result"
    }
   ],
   "source": [
    "df.isnull().sum()"
   ]
  },
  {
   "cell_type": "code",
   "execution_count": 6,
   "metadata": {
    "id": "kLLeq8PCdSH-"
   },
   "outputs": [],
   "source": [
    "df = df.drop(['CYCLONE'], axis = 1) \n",
    "df = df.drop(['LOCATION'], axis = 1)"
   ]
  },
  {
   "cell_type": "code",
   "execution_count": 7,
   "metadata": {
    "colab": {
     "base_uri": "https://localhost:8080/",
     "height": 198
    },
    "id": "UkCjmq0RduIT",
    "outputId": "5da5127b-7874-4491-d9a2-8d85e187d19d"
   },
   "outputs": [
    {
     "data": {
      "text/html": [
       "<div>\n",
       "<style scoped>\n",
       "    .dataframe tbody tr th:only-of-type {\n",
       "        vertical-align: middle;\n",
       "    }\n",
       "\n",
       "    .dataframe tbody tr th {\n",
       "        vertical-align: top;\n",
       "    }\n",
       "\n",
       "    .dataframe thead th {\n",
       "        text-align: right;\n",
       "    }\n",
       "</style>\n",
       "<table border=\"1\" class=\"dataframe\">\n",
       "  <thead>\n",
       "    <tr style=\"text-align: right;\">\n",
       "      <th></th>\n",
       "      <th>SEASON</th>\n",
       "      <th>STAGES</th>\n",
       "      <th>SEA_TEMPERATURE</th>\n",
       "      <th>RIDGES</th>\n",
       "      <th>WIND_SHEAR_KNOTS</th>\n",
       "      <th>MJO</th>\n",
       "      <th>DIRECTION</th>\n",
       "    </tr>\n",
       "  </thead>\n",
       "  <tbody>\n",
       "    <tr>\n",
       "      <th>0</th>\n",
       "      <td>0</td>\n",
       "      <td>1</td>\n",
       "      <td>27</td>\n",
       "      <td>0</td>\n",
       "      <td>40</td>\n",
       "      <td>0</td>\n",
       "      <td>0</td>\n",
       "    </tr>\n",
       "    <tr>\n",
       "      <th>1</th>\n",
       "      <td>0</td>\n",
       "      <td>1</td>\n",
       "      <td>28</td>\n",
       "      <td>0</td>\n",
       "      <td>35</td>\n",
       "      <td>0</td>\n",
       "      <td>0</td>\n",
       "    </tr>\n",
       "    <tr>\n",
       "      <th>2</th>\n",
       "      <td>0</td>\n",
       "      <td>1</td>\n",
       "      <td>28</td>\n",
       "      <td>0</td>\n",
       "      <td>30</td>\n",
       "      <td>0</td>\n",
       "      <td>0</td>\n",
       "    </tr>\n",
       "    <tr>\n",
       "      <th>3</th>\n",
       "      <td>0</td>\n",
       "      <td>0</td>\n",
       "      <td>28</td>\n",
       "      <td>0</td>\n",
       "      <td>30</td>\n",
       "      <td>0</td>\n",
       "      <td>0</td>\n",
       "    </tr>\n",
       "    <tr>\n",
       "      <th>4</th>\n",
       "      <td>0</td>\n",
       "      <td>0</td>\n",
       "      <td>28</td>\n",
       "      <td>0</td>\n",
       "      <td>29</td>\n",
       "      <td>0</td>\n",
       "      <td>0</td>\n",
       "    </tr>\n",
       "  </tbody>\n",
       "</table>\n",
       "</div>"
      ],
      "text/plain": [
       "   SEASON  STAGES  SEA_TEMPERATURE  RIDGES  WIND_SHEAR_KNOTS  MJO  DIRECTION\n",
       "0       0       1               27       0                40    0          0\n",
       "1       0       1               28       0                35    0          0\n",
       "2       0       1               28       0                30    0          0\n",
       "3       0       0               28       0                30    0          0\n",
       "4       0       0               28       0                29    0          0"
      ]
     },
     "execution_count": 7,
     "metadata": {},
     "output_type": "execute_result"
    }
   ],
   "source": [
    "df.head()"
   ]
  },
  {
   "cell_type": "code",
   "execution_count": 8,
   "metadata": {
    "colab": {
     "base_uri": "https://localhost:8080/",
     "height": 288
    },
    "id": "PuZkjH1-dvYB",
    "outputId": "069beb5e-0ab6-4900-83fc-c05246b056cb"
   },
   "outputs": [
    {
     "data": {
      "text/html": [
       "<div>\n",
       "<style scoped>\n",
       "    .dataframe tbody tr th:only-of-type {\n",
       "        vertical-align: middle;\n",
       "    }\n",
       "\n",
       "    .dataframe tbody tr th {\n",
       "        vertical-align: top;\n",
       "    }\n",
       "\n",
       "    .dataframe thead th {\n",
       "        text-align: right;\n",
       "    }\n",
       "</style>\n",
       "<table border=\"1\" class=\"dataframe\">\n",
       "  <thead>\n",
       "    <tr style=\"text-align: right;\">\n",
       "      <th></th>\n",
       "      <th>SEASON</th>\n",
       "      <th>STAGES</th>\n",
       "      <th>SEA_TEMPERATURE</th>\n",
       "      <th>RIDGES</th>\n",
       "      <th>WIND_SHEAR_KNOTS</th>\n",
       "      <th>MJO</th>\n",
       "      <th>DIRECTION</th>\n",
       "    </tr>\n",
       "  </thead>\n",
       "  <tbody>\n",
       "    <tr>\n",
       "      <th>count</th>\n",
       "      <td>196.000000</td>\n",
       "      <td>196.000000</td>\n",
       "      <td>196.000000</td>\n",
       "      <td>196.000000</td>\n",
       "      <td>196.000000</td>\n",
       "      <td>196.000000</td>\n",
       "      <td>196.000000</td>\n",
       "    </tr>\n",
       "    <tr>\n",
       "      <th>mean</th>\n",
       "      <td>0.255102</td>\n",
       "      <td>2.913265</td>\n",
       "      <td>28.622449</td>\n",
       "      <td>1.204082</td>\n",
       "      <td>20.775510</td>\n",
       "      <td>0.510204</td>\n",
       "      <td>1.107143</td>\n",
       "    </tr>\n",
       "    <tr>\n",
       "      <th>std</th>\n",
       "      <td>0.437035</td>\n",
       "      <td>1.986526</td>\n",
       "      <td>1.403405</td>\n",
       "      <td>0.783931</td>\n",
       "      <td>12.362914</td>\n",
       "      <td>0.501176</td>\n",
       "      <td>1.375146</td>\n",
       "    </tr>\n",
       "    <tr>\n",
       "      <th>min</th>\n",
       "      <td>0.000000</td>\n",
       "      <td>0.000000</td>\n",
       "      <td>25.000000</td>\n",
       "      <td>0.000000</td>\n",
       "      <td>5.000000</td>\n",
       "      <td>0.000000</td>\n",
       "      <td>0.000000</td>\n",
       "    </tr>\n",
       "    <tr>\n",
       "      <th>25%</th>\n",
       "      <td>0.000000</td>\n",
       "      <td>1.000000</td>\n",
       "      <td>28.000000</td>\n",
       "      <td>1.000000</td>\n",
       "      <td>9.000000</td>\n",
       "      <td>0.000000</td>\n",
       "      <td>0.000000</td>\n",
       "    </tr>\n",
       "    <tr>\n",
       "      <th>50%</th>\n",
       "      <td>0.000000</td>\n",
       "      <td>3.000000</td>\n",
       "      <td>29.000000</td>\n",
       "      <td>1.000000</td>\n",
       "      <td>18.000000</td>\n",
       "      <td>1.000000</td>\n",
       "      <td>0.500000</td>\n",
       "    </tr>\n",
       "    <tr>\n",
       "      <th>75%</th>\n",
       "      <td>1.000000</td>\n",
       "      <td>5.000000</td>\n",
       "      <td>30.000000</td>\n",
       "      <td>2.000000</td>\n",
       "      <td>30.000000</td>\n",
       "      <td>1.000000</td>\n",
       "      <td>2.000000</td>\n",
       "    </tr>\n",
       "    <tr>\n",
       "      <th>max</th>\n",
       "      <td>1.000000</td>\n",
       "      <td>6.000000</td>\n",
       "      <td>31.000000</td>\n",
       "      <td>2.000000</td>\n",
       "      <td>46.000000</td>\n",
       "      <td>1.000000</td>\n",
       "      <td>4.000000</td>\n",
       "    </tr>\n",
       "  </tbody>\n",
       "</table>\n",
       "</div>"
      ],
      "text/plain": [
       "           SEASON      STAGES  SEA_TEMPERATURE      RIDGES  WIND_SHEAR_KNOTS  \\\n",
       "count  196.000000  196.000000       196.000000  196.000000        196.000000   \n",
       "mean     0.255102    2.913265        28.622449    1.204082         20.775510   \n",
       "std      0.437035    1.986526         1.403405    0.783931         12.362914   \n",
       "min      0.000000    0.000000        25.000000    0.000000          5.000000   \n",
       "25%      0.000000    1.000000        28.000000    1.000000          9.000000   \n",
       "50%      0.000000    3.000000        29.000000    1.000000         18.000000   \n",
       "75%      1.000000    5.000000        30.000000    2.000000         30.000000   \n",
       "max      1.000000    6.000000        31.000000    2.000000         46.000000   \n",
       "\n",
       "              MJO   DIRECTION  \n",
       "count  196.000000  196.000000  \n",
       "mean     0.510204    1.107143  \n",
       "std      0.501176    1.375146  \n",
       "min      0.000000    0.000000  \n",
       "25%      0.000000    0.000000  \n",
       "50%      1.000000    0.500000  \n",
       "75%      1.000000    2.000000  \n",
       "max      1.000000    4.000000  "
      ]
     },
     "execution_count": 8,
     "metadata": {},
     "output_type": "execute_result"
    }
   ],
   "source": [
    "df.describe()"
   ]
  },
  {
   "cell_type": "code",
   "execution_count": 9,
   "metadata": {
    "id": "QGDuFPskd3hJ"
   },
   "outputs": [],
   "source": [
    "import matplotlib.pyplot as plt"
   ]
  },
  {
   "cell_type": "code",
   "execution_count": 10,
   "metadata": {
    "colab": {
     "base_uri": "https://localhost:8080/",
     "height": 853
    },
    "id": "uugY76sMeAwu",
    "outputId": "a8b54b8c-f4a6-47fa-9223-dbe5db202db7"
   },
   "outputs": [
    {
     "data": {
      "image/png": "[encoded data removed]",
      "text/plain": [
       "<Figure size 1440x1080 with 9 Axes>"
      ]
     },
     "metadata": {
      "needs_background": "light"
     },
     "output_type": "display_data"
    }
   ],
   "source": [
    "df.hist(bins=50 , figsize=(20,15))\n",
    "plt.show()"
   ]
  },
  {
   "cell_type": "code",
   "execution_count": 11,
   "metadata": {
    "colab": {
     "base_uri": "https://localhost:8080/"
    },
    "id": "GBVds1u_eCdN",
    "outputId": "c147e11b-53c0-4e18-ff93-9c7ae7dd2e9f"
   },
   "outputs": [
    {
     "data": {
      "text/plain": [
       "DIRECTION           1.000000\n",
       "STAGES              0.639808\n",
       "RIDGES              0.393477\n",
       "SEA_TEMPERATURE     0.246935\n",
       "MJO                 0.076535\n",
       "SEASON              0.073749\n",
       "WIND_SHEAR_KNOTS   -0.591612\n",
       "Name: DIRECTION, dtype: float64"
      ]
     },
     "execution_count": 11,
     "metadata": {},
     "output_type": "execute_result"
    }
   ],
   "source": [
    "corr_matrix = df.corr()\n",
    "\n",
    "corr_matrix['DIRECTION'].sort_values(ascending = False)"
   ]
  },
  {
   "cell_type": "code",
   "execution_count": 12,
   "metadata": {
    "colab": {
     "base_uri": "https://localhost:8080/",
     "height": 1000
    },
    "id": "UDrYEQsbeQaL",
    "outputId": "6bf4a7c2-2277-4c77-eb9d-ee278ca0387b"
   },
   "outputs": [
    {
     "data": {
      "image/png": "[encoded data removed]",
      "text/plain": [
       "<Figure size 1440x1440 with 2 Axes>"
      ]
     },
     "metadata": {
      "needs_background": "light"
     },
     "output_type": "display_data"
    }
   ],
   "source": [
    "import seaborn as sns\n",
    "\n",
    "plt.figure(figsize=(20,20))\n",
    "\n",
    "g=sns.heatmap(corr_matrix,annot=True,cmap=\"RdYlGn\")"
   ]
  },
  {
   "cell_type": "code",
   "execution_count": 13,
   "metadata": {
    "colab": {
     "base_uri": "https://localhost:8080/",
     "height": 680
    },
    "id": "BdlrkZJXeTh6",
    "outputId": "fc842717-efb9-470c-d67a-44e031ed527b"
   },
   "outputs": [
    {
     "data": {
      "text/plain": [
       "array([[<AxesSubplot:xlabel='DIRECTION', ylabel='DIRECTION'>,\n",
       "        <AxesSubplot:xlabel='STAGES', ylabel='DIRECTION'>,\n",
       "        <AxesSubplot:xlabel='WIND_SHEAR_KNOTS', ylabel='DIRECTION'>],\n",
       "       [<AxesSubplot:xlabel='DIRECTION', ylabel='STAGES'>,\n",
       "        <AxesSubplot:xlabel='STAGES', ylabel='STAGES'>,\n",
       "        <AxesSubplot:xlabel='WIND_SHEAR_KNOTS', ylabel='STAGES'>],\n",
       "       [<AxesSubplot:xlabel='DIRECTION', ylabel='WIND_SHEAR_KNOTS'>,\n",
       "        <AxesSubplot:xlabel='STAGES', ylabel='WIND_SHEAR_KNOTS'>,\n",
       "        <AxesSubplot:xlabel='WIND_SHEAR_KNOTS', ylabel='WIND_SHEAR_KNOTS'>]],\n",
       "      dtype=object)"
      ]
     },
     "execution_count": 13,
     "metadata": {},
     "output_type": "execute_result"
    },
    {
     "data": {
      "image/png": "[encoded data removed]",
      "text/plain": [
       "<Figure size 864x576 with 9 Axes>"
      ]
     },
     "metadata": {
      "needs_background": "light"
     },
     "output_type": "display_data"
    }
   ],
   "source": [
    "from pandas.plotting import scatter_matrix\n",
    "\n",
    "atr = ['DIRECTION','STAGES','WIND_SHEAR_KNOTS']\n",
    "scatter_matrix(df[atr],figsize=(12,8))"
   ]
  },
  {
   "cell_type": "code",
   "execution_count": 14,
   "metadata": {
    "id": "-6s-yXgnerfY"
   },
   "outputs": [],
   "source": [
    "df_features = df.drop(['DIRECTION'], axis = 1) "
   ]
  },
  {
   "cell_type": "code",
   "execution_count": 15,
   "metadata": {
    "id": "unECfK2wfOOL"
   },
   "outputs": [],
   "source": [
    "df_label = df['DIRECTION']"
   ]
  },
  {
   "cell_type": "code",
   "execution_count": 16,
   "metadata": {
    "colab": {
     "base_uri": "https://localhost:8080/",
     "height": 198
    },
    "id": "kmFPRIJNfSfX",
    "outputId": "83c26cd1-e2a9-4db6-dff3-39cb58d93185"
   },
   "outputs": [
    {
     "data": {
      "text/html": [
       "<div>\n",
       "<style scoped>\n",
       "    .dataframe tbody tr th:only-of-type {\n",
       "        vertical-align: middle;\n",
       "    }\n",
       "\n",
       "    .dataframe tbody tr th {\n",
       "        vertical-align: top;\n",
       "    }\n",
       "\n",
       "    .dataframe thead th {\n",
       "        text-align: right;\n",
       "    }\n",
       "</style>\n",
       "<table border=\"1\" class=\"dataframe\">\n",
       "  <thead>\n",
       "    <tr style=\"text-align: right;\">\n",
       "      <th></th>\n",
       "      <th>SEASON</th>\n",
       "      <th>STAGES</th>\n",
       "      <th>SEA_TEMPERATURE</th>\n",
       "      <th>RIDGES</th>\n",
       "      <th>WIND_SHEAR_KNOTS</th>\n",
       "      <th>MJO</th>\n",
       "    </tr>\n",
       "  </thead>\n",
       "  <tbody>\n",
       "    <tr>\n",
       "      <th>0</th>\n",
       "      <td>0</td>\n",
       "      <td>1</td>\n",
       "      <td>27</td>\n",
       "      <td>0</td>\n",
       "      <td>40</td>\n",
       "      <td>0</td>\n",
       "    </tr>\n",
       "    <tr>\n",
       "      <th>1</th>\n",
       "      <td>0</td>\n",
       "      <td>1</td>\n",
       "      <td>28</td>\n",
       "      <td>0</td>\n",
       "      <td>35</td>\n",
       "      <td>0</td>\n",
       "    </tr>\n",
       "    <tr>\n",
       "      <th>2</th>\n",
       "      <td>0</td>\n",
       "      <td>1</td>\n",
       "      <td>28</td>\n",
       "      <td>0</td>\n",
       "      <td>30</td>\n",
       "      <td>0</td>\n",
       "    </tr>\n",
       "    <tr>\n",
       "      <th>3</th>\n",
       "      <td>0</td>\n",
       "      <td>0</td>\n",
       "      <td>28</td>\n",
       "      <td>0</td>\n",
       "      <td>30</td>\n",
       "      <td>0</td>\n",
       "    </tr>\n",
       "    <tr>\n",
       "      <th>4</th>\n",
       "      <td>0</td>\n",
       "      <td>0</td>\n",
       "      <td>28</td>\n",
       "      <td>0</td>\n",
       "      <td>29</td>\n",
       "      <td>0</td>\n",
       "    </tr>\n",
       "  </tbody>\n",
       "</table>\n",
       "</div>"
      ],
      "text/plain": [
       "   SEASON  STAGES  SEA_TEMPERATURE  RIDGES  WIND_SHEAR_KNOTS  MJO\n",
       "0       0       1               27       0                40    0\n",
       "1       0       1               28       0                35    0\n",
       "2       0       1               28       0                30    0\n",
       "3       0       0               28       0                30    0\n",
       "4       0       0               28       0                29    0"
      ]
     },
     "execution_count": 16,
     "metadata": {},
     "output_type": "execute_result"
    }
   ],
   "source": [
    "df_features.head()"
   ]
  },
  {
   "cell_type": "code",
   "execution_count": 17,
   "metadata": {
    "colab": {
     "base_uri": "https://localhost:8080/"
    },
    "id": "QzS9oBE-fVAc",
    "outputId": "978b04a8-c409-4688-d75d-2691cf378b22"
   },
   "outputs": [
    {
     "data": {
      "text/plain": [
       "0    0\n",
       "1    0\n",
       "2    0\n",
       "3    0\n",
       "4    0\n",
       "Name: DIRECTION, dtype: int64"
      ]
     },
     "execution_count": 17,
     "metadata": {},
     "output_type": "execute_result"
    }
   ],
   "source": [
    "df_label.head()"
   ]
  },
  {
   "cell_type": "code",
   "execution_count": 18,
   "metadata": {
    "id": "TW1NYUrxfXYl"
   },
   "outputs": [],
   "source": [
    "features = df_features"
   ]
  },
  {
   "cell_type": "code",
   "execution_count": 19,
   "metadata": {
    "id": "8EVWUuV3fi_O"
   },
   "outputs": [],
   "source": [
    "from sklearn.linear_model import LogisticRegression\n",
    "\n",
    "model = LogisticRegression()"
   ]
  },
  {
   "cell_type": "code",
   "execution_count": 20,
   "metadata": {
    "colab": {
     "base_uri": "https://localhost:8080/"
    },
    "id": "tVI1nTBTftxX",
    "outputId": "822ac898-bc43-4c9c-b936-4c21aaa389ad"
   },
   "outputs": [
    {
     "name": "stderr",
     "output_type": "stream",
     "text": [
      "c:\\users\\samrat\\appdata\\local\\programs\\python\\python38\\lib\\site-packages\\sklearn\\linear_model\\_logistic.py:762: ConvergenceWarning: lbfgs failed to converge (status=1):\n",
      "STOP: TOTAL NO. of ITERATIONS REACHED LIMIT.\n",
      "\n",
      "Increase the number of iterations (max_iter) or scale the data as shown in:\n",
      "    https://scikit-learn.org/stable/modules/preprocessing.html\n",
      "Please also refer to the documentation for alternative solver options:\n",
      "    https://scikit-learn.org/stable/modules/linear_model.html#logistic-regression\n",
      "  n_iter_i = _check_optimize_result(\n"
     ]
    },
    {
     "data": {
      "text/plain": [
       "LogisticRegression()"
      ]
     },
     "execution_count": 20,
     "metadata": {},
     "output_type": "execute_result"
    }
   ],
   "source": [
    "model.fit(features,df_label)"
   ]
  },
  {
   "cell_type": "code",
   "execution_count": 21,
   "metadata": {
    "colab": {
     "base_uri": "https://localhost:8080/"
    },
    "id": "Ix7OeZpdf092",
    "outputId": "86011edc-4bf4-469e-85f2-79c4a0178647"
   },
   "outputs": [
    {
     "data": {
      "text/plain": [
       "array([2], dtype=int64)"
      ]
     },
     "execution_count": 21,
     "metadata": {},
     "output_type": "execute_result"
    }
   ],
   "source": [
    "model.predict([[0,5,29,1,8,0]])"
   ]
  },
  {
   "cell_type": "code",
   "execution_count": 22,
   "metadata": {
    "id": "XhmN8vZygYs5"
   },
   "outputs": [],
   "source": [
    "import pickle"
   ]
  },
  {
   "cell_type": "code",
   "execution_count": 23,
   "metadata": {
    "id": "LX7DH0-0hCBj"
   },
   "outputs": [],
   "source": [
    "pickle.dump(model,open('storm_model.pkl','wb'))"
   ]
  },
  {
   "cell_type": "code",
   "execution_count": null,
   "metadata": {
    "id": "1rX_tUEShF6g"
   },
   "outputs": [],
   "source": []
  }
 ],
 "metadata": {
  "accelerator": "GPU",
  "colab": {
   "name": "storm_model.ipynb",
   "provenance": []
  },
  "kernelspec": {
   "display_name": "Python 3",
   "language": "python",
   "name": "python3"
  },
  "language_info": {
   "codemirror_mode": {
    "name": "ipython",
    "version": 3
   },
   "file_extension": ".py",
   "mimetype": "text/x-python",
   "name": "python",
   "nbconvert_exporter": "python",
   "pygments_lexer": "ipython3",
   "version": "3.8.5"
  }
 },
 "nbformat": 4,
 "nbformat_minor": 1
}
